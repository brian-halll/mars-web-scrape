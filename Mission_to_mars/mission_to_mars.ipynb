{
 "cells": [
  {
   "cell_type": "code",
   "execution_count": null,
   "id": "34d5ac7c",
   "metadata": {},
   "outputs": [],
   "source": [
    "from splinter import Browser\n",
    "from bs4 import BeautifulSoup as bs\n",
    "import time\n",
    "from webdriver_manager.chrome import ChromeDriverManager"
   ]
  },
  {
   "cell_type": "code",
   "execution_count": 4,
   "id": "a8a23d8e",
   "metadata": {},
   "outputs": [
    {
     "name": "stderr",
     "output_type": "stream",
     "text": [
      "[WDM] - Downloading: 100%|██████████████████| 8.04M/8.04M [00:13<00:00, 649kB/s]\n"
     ]
    }
   ],
   "source": [
    "# Set up splinter \n",
    "executable_path = {'executable_path': ChromeDriverManager().install()}\n",
    "browser = Browser('chrome', **executable_path, headless=False)"
   ]
  },
  {
   "cell_type": "code",
   "execution_count": 5,
   "id": "80d1f167",
   "metadata": {},
   "outputs": [],
   "source": [
    "url = 'https://redplanetscience.com/'\n",
    "browser.visit(url)\n",
    "\n",
    "# delay so that soup is not empty\n",
    "time.sleep(1)\n",
    "\n",
    "# Scrape Page into Soup\n",
    "html = browser.html\n",
    "soup = bs(html, \"html.parser\")\n",
    "\n",
    "# find desired html to store in variable / database\n",
    "article_title = soup.find('div', class_ ='content_title')\n",
    "article_description = soup.find('div', class_='article_teaser_body')"
   ]
  },
  {
   "cell_type": "code",
   "execution_count": 16,
   "id": "5d6500de",
   "metadata": {},
   "outputs": [],
   "source": [
    "url = 'https://spaceimages-mars.com/'\n",
    "browser.visit(url)\n",
    "\n",
    "# delay so that soup is not empty\n",
    "time.sleep(1)\n",
    "\n",
    "# Scrape Page into Soup\n",
    "html = browser.html\n",
    "soup = bs(html, \"html.parser\")\n",
    "\n",
    "# find desired html to store in variable / database\n",
    "featured_image_url = f\"{url}{soup.find('img', class_='headerimage fade-in')['src']}\""
   ]
  },
  {
   "cell_type": "code",
   "execution_count": 24,
   "id": "0769778c",
   "metadata": {},
   "outputs": [],
   "source": [
    "# import pandas\n",
    "import pandas as pd\n",
    "\n",
    "# store url in variable\n",
    "url = 'https://galaxyfacts-mars.com/'\n",
    "\n",
    "\n",
    "\n",
    "# find desired html table data to store in variable / database using pandas\n",
    "tables = pd.read_html(url) \n",
    "\n",
    "# save table into dataframe\n",
    "mars_earth_df = tables[0]\n",
    "\n",
    "mars_earth_html = mars_earth_df.to_html()\n",
    "\n"
   ]
  },
  {
   "cell_type": "code",
   "execution_count": null,
   "id": "2cc7af9e",
   "metadata": {},
   "outputs": [],
   "source": [
    "url = 'https://marshemispheres.com/'\n",
    "browser.visit(url)\n",
    "\n",
    "# delay so that soup is not empty\n",
    "time.sleep(1)\n",
    "\n",
    "# Scrape Page into Soup\n",
    "html = browser.html\n",
    "soup = bs(html, \"html.parser\")\n",
    "\n",
    "# click links for desired data\n",
    "\n",
    "\n",
    "# find desired html to store in variable / database\n"
   ]
  }
 ],
 "metadata": {
  "kernelspec": {
   "display_name": "Python 3 (ipykernel)",
   "language": "python",
   "name": "python3"
  },
  "language_info": {
   "codemirror_mode": {
    "name": "ipython",
    "version": 3
   },
   "file_extension": ".py",
   "mimetype": "text/x-python",
   "name": "python",
   "nbconvert_exporter": "python",
   "pygments_lexer": "ipython3",
   "version": "3.9.12"
  }
 },
 "nbformat": 4,
 "nbformat_minor": 5
}

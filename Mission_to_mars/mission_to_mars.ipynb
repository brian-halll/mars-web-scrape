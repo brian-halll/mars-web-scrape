{
 "cells": [
  {
   "cell_type": "code",
   "execution_count": 1,
   "id": "6ea89bf6",
   "metadata": {},
   "outputs": [],
   "source": [
    "from splinter import Browser\n",
    "from bs4 import BeautifulSoup as bs\n",
    "import time\n",
    "from webdriver_manager.chrome import ChromeDriverManager"
   ]
  },
  {
   "cell_type": "code",
   "execution_count": 2,
   "id": "a8a23d8e",
   "metadata": {},
   "outputs": [
    {
     "name": "stderr",
     "output_type": "stream",
     "text": [
      "[WDM] - Downloading: 100%|█████████████████| 8.15M/8.15M [00:00<00:00, 10.3MB/s]\n"
     ]
    }
   ],
   "source": [
    "# Set up splinter \n",
    "executable_path = {'executable_path': ChromeDriverManager().install()}\n",
    "browser = Browser('chrome', **executable_path, headless=False)"
   ]
  },
  {
   "cell_type": "code",
   "execution_count": 3,
   "id": "80d1f167",
   "metadata": {},
   "outputs": [],
   "source": [
    "url = 'https://redplanetscience.com/'\n",
    "browser.visit(url)\n",
    "\n",
    "# delay so that soup is not empty\n",
    "time.sleep(1)\n",
    "\n",
    "# Scrape Page into Soup\n",
    "html = browser.html\n",
    "soup = bs(html, \"html.parser\")\n",
    "\n",
    "# find desired html to store in variable / database\n",
    "article_title = soup.find('div', class_ ='content_title')\n",
    "article_description = soup.find('div', class_='article_teaser_body')"
   ]
  },
  {
   "cell_type": "code",
   "execution_count": 4,
   "id": "5d6500de",
   "metadata": {},
   "outputs": [],
   "source": [
    "url = 'https://spaceimages-mars.com/'\n",
    "browser.visit(url)\n",
    "\n",
    "# delay so that soup is not empty\n",
    "time.sleep(1)\n",
    "\n",
    "# Scrape Page into Soup\n",
    "html = browser.html\n",
    "soup = bs(html, \"html.parser\")\n",
    "\n",
    "# find desired html to store in variable / database\n",
    "featured_image_url = f\"{url}{soup.find('img', class_='headerimage fade-in')['src']}\""
   ]
  },
  {
   "cell_type": "code",
   "execution_count": 15,
   "id": "0769778c",
   "metadata": {},
   "outputs": [],
   "source": [
    "# import pandas\n",
    "import pandas as pd\n",
    "\n",
    "# store url in variable\n",
    "url = 'https://galaxyfacts-mars.com/'\n",
    "\n",
    "\n",
    "\n",
    "# find desired html table data to store in variable / database using pandas\n",
    "tables = pd.read_html(url) \n",
    "\n",
    "# save table into dataframe\n",
    "mars_earth_df = tables[0]\n",
    "\n",
    "mars_earth_html = mars_earth_df.to_html('table.html')\n",
    "\n",
    "#!open table.html\n",
    "\n",
    "mars_earth_html = mars_earth_html.replace('\\n', '')\n",
    "\n",
    "\n",
    "#mars_earth_html"
   ]
  },
  {
   "cell_type": "code",
   "execution_count": 6,
   "id": "2cc7af9e",
   "metadata": {},
   "outputs": [],
   "source": [
    "url = 'https://marshemispheres.com/'\n",
    "browser.visit(url)\n",
    "\n",
    "# delay so that soup is not empty\n",
    "time.sleep(1)\n",
    "    \n",
    "# Scrape Page into Soup\n",
    "html = browser.html\n",
    "soup = bs(html, 'html.parser')\n",
    "\n",
    "# get titles for links\n",
    "titles = soup.find_all('div', class_= 'description')\n",
    "titles = soup.find_all('h3')\n",
    "\n",
    "stripped_titles = [title.text.strip() for title in titles]"
   ]
  },
  {
   "cell_type": "code",
   "execution_count": 10,
   "id": "80f7cc3a",
   "metadata": {},
   "outputs": [
    {
     "name": "stdout",
     "output_type": "stream",
     "text": [
      "link with string not found...\n"
     ]
    },
    {
     "data": {
      "text/plain": [
       "[{'title': 'Cerberus Hemisphere Enhanced',\n",
       "  'img_url': 'https://marshemispheres.com/<img class=\"wide-image\" src=\"images/f5e372a36edfa389625da6d0cc25d905_cerberus_enhanced.tif_full.jpg\"/>'},\n",
       " {'title': 'Schiaparelli Hemisphere Enhanced',\n",
       "  'img_url': 'https://marshemispheres.com/<img class=\"wide-image\" src=\"images/3778f7b43bbbc89d6e3cfabb3613ba93_schiaparelli_enhanced.tif_full.jpg\"/>'},\n",
       " {'title': 'Syrtis Major Hemisphere Enhanced',\n",
       "  'img_url': 'https://marshemispheres.com/<img class=\"wide-image\" src=\"images/555e6403a6ddd7ba16ddb0e471cadcf7_syrtis_major_enhanced.tif_full.jpg\"/>'},\n",
       " {'title': 'Valles Marineris Hemisphere Enhanced',\n",
       "  'img_url': 'https://marshemispheres.com/<img class=\"wide-image\" src=\"images/b3c7c6c9138f57b4756be9b9c43e3a48_valles_marineris_enhanced.tif_full.jpg\"/>'},\n",
       " {'title': 'Back', 'img_url': 'https://marshemispheres.com/None'}]"
      ]
     },
     "execution_count": 10,
     "metadata": {},
     "output_type": "execute_result"
    }
   ],
   "source": [
    "hemisphere_image_urls = []\n",
    "\n",
    "# click links for desired data\n",
    "for title in stripped_titles:\n",
    "    \n",
    "    try:\n",
    "        browser.links.find_by_partial_text(title).click()\n",
    "    except:\n",
    "        print(\"link with string not found...\")\n",
    "    \n",
    "    time.sleep(1)\n",
    "    \n",
    "    # update soup after clicking link\n",
    "    html = browser.html\n",
    "    soup = bs(html, \"html.parser\")\n",
    "    \n",
    "    name = title\n",
    "    img_url = soup.find('div', class_='downloads')\n",
    "    img_url = soup.find('img', class_ = 'wide-image')\n",
    "    \n",
    "    #img_url = soup.find('div', class_='downloads')\n",
    "    #img_url = soup.find('a', string = \"Sample\")\n",
    "    \n",
    "   \n",
    "    \n",
    "    #store data in dictionary\n",
    "    hemisphere_image_urls.append({\"title\": name, \"img_url\": f\"{url}{img_url}\"})\n",
    "    \n",
    "    # return to main page \n",
    "    browser.visit(url)\n",
    "    \n",
    "hemisphere_image_urls"
   ]
  },
  {
   "cell_type": "code",
   "execution_count": null,
   "id": "4051af1c",
   "metadata": {},
   "outputs": [],
   "source": []
  }
 ],
 "metadata": {
  "kernelspec": {
   "display_name": "Python 3 (ipykernel)",
   "language": "python",
   "name": "python3"
  },
  "language_info": {
   "codemirror_mode": {
    "name": "ipython",
    "version": 3
   },
   "file_extension": ".py",
   "mimetype": "text/x-python",
   "name": "python",
   "nbconvert_exporter": "python",
   "pygments_lexer": "ipython3",
   "version": "3.9.12"
  }
 },
 "nbformat": 4,
 "nbformat_minor": 5
}
